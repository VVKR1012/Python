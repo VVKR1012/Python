{
 "cells": [
  {
   "cell_type": "code",
   "execution_count": 2,
   "metadata": {},
   "outputs": [],
   "source": [
    "# Calculate the value of PI (π) from the infinite series\n",
    "# Using infinite series\n",
    "\n",
    "# Declare the sum of the infinite series\n",
    "# Declare the numerator to be 4\n",
    "# Declare the denominator to be 1\n",
    "# Increment the denominator by 2\n",
    "# Declare the sign variable to be positive one, \n",
    "# multiple by -1 per iteration (so it will flip to opposite sign)\n",
    "\n",
    "# Check if the loop count / 100 = 0\n",
    "# Implement using the mod function"
   ]
  },
  {
   "cell_type": "code",
   "execution_count": 7,
   "metadata": {},
   "outputs": [
    {
     "name": "stdout",
     "output_type": "stream",
     "text": [
      " 1 ,  4 / 1\n",
      "-1 ,  4 / 3\n",
      " 1 ,  4 / 5\n",
      "-1 ,  4 / 7\n",
      " 1 ,  4 / 9\n",
      "-1 ,  4 / 11\n",
      " 1 ,  4 / 13\n",
      "-1 ,  4 / 15\n",
      " 1 ,  4 / 17\n",
      "-1 ,  4 / 19\n"
     ]
    }
   ],
   "source": [
    "sum, numerator, denominator, denominator_inc, sign_p = 0, 4, 1, 2, 1\n",
    "\n",
    "for i in range(0,10):\n",
    "    # i =+ denominator\n",
    "    # print((numerator/(1+i*2)*sign_p))\n",
    "    print(str(sign_p).rjust(2), ', ', numerator, '/', 1+i*2)\n",
    "    sign_p = sign_p * -1\n",
    "    \n",
    "    "
   ]
  },
  {
   "cell_type": "code",
   "execution_count": 11,
   "metadata": {},
   "outputs": [
    {
     "name": "stdout",
     "output_type": "stream",
     "text": [
      " 1000 : 3.1425916543\n",
      " 2000 : 3.1420924037\n",
      " 3000 : 3.1419258758\n",
      " 4000 : 3.1418425911\n",
      " 5000 : 3.1417926136\n",
      " 6000 : 3.1417592925\n",
      " 7000 : 3.1417354903\n",
      " 8000 : 3.141717638\n",
      " 9000 : 3.1417037524\n",
      "10000 : 3.1416926436\n"
     ]
    }
   ],
   "source": [
    "sum_a, numerator, denominator, denominator_inc, sign_p = 0, 4, 1, 2, 1\n",
    "\n",
    "for i in range(0,10001):\n",
    "    # print(str(sign_p).rjust(2), ', ', numerator, '/', 1+i*2)\n",
    "    sum_a += sign_p*(numerator)/(1+i*2)\n",
    "    if (i % 1000 == 0) and (i != 0):\n",
    "        print(str(i).rjust(5), ':', round(sum_a,10))\n",
    "    sign_p = sign_p * -1"
   ]
  },
  {
   "cell_type": "code",
   "execution_count": 13,
   "metadata": {},
   "outputs": [
    {
     "name": "stdout",
     "output_type": "stream",
     "text": [
      "62\n",
      "3844\n",
      "238328\n",
      "14776336\n",
      "916132832\n",
      "56800235584\n",
      "3521614606208\n",
      "218340105584896\n",
      "13537086546263552\n",
      "839299365868340224\n",
      "52036560683837093888\n",
      "3226266762397899821056\n"
     ]
    }
   ],
   "source": [
    "for i in range(1, 13):\n",
    "    print(62**i)"
   ]
  },
  {
   "cell_type": "code",
   "execution_count": 14,
   "metadata": {},
   "outputs": [
    {
     "name": "stdout",
     "output_type": "stream",
     "text": [
      "75\n",
      "5625\n",
      "421875\n",
      "31640625\n",
      "2373046875\n",
      "177978515625\n",
      "13348388671875\n",
      "1001129150390625\n",
      "75084686279296875\n",
      "5631351470947265625\n",
      "422351360321044921875\n",
      "31676352024078369140625\n"
     ]
    }
   ],
   "source": [
    "for i in range(1, 13):\n",
    "    print(75**i)"
   ]
  },
  {
   "cell_type": "code",
   "execution_count": 1,
   "metadata": {},
   "outputs": [],
   "source": [
    "# ******************************************************************************\n",
    "# 05-08 Write a program that uses a for loop to find the smallest of several \n",
    "# integers. Assume the first value read specifies number of values remaining \n",
    "# and that the first number is not one of the integer to compare.\n",
    "# ******************************************************************************"
   ]
  },
  {
   "cell_type": "code",
   "execution_count": 16,
   "metadata": {},
   "outputs": [
    {
     "name": "stdout",
     "output_type": "stream",
     "text": [
      "How many numbers would like to compare : 5\n",
      "Enter a number: -100\n",
      "Enter a number: 327665\n",
      "Enter a number: 78587\n",
      "Enter a number: 78675\n",
      "Enter a number: 667476\n",
      "You have entered : [-100, 327665, 78587, 78675, 667476]\n",
      "The smallest number is :  -100\n"
     ]
    }
   ],
   "source": [
    "var1 = int(input('How many numbers would like to compare : '))\n",
    "list_var1=[]\n",
    "for i in range (1,var1+1):\n",
    "    list_var1.append(int(input('Enter a number: ')))\n",
    "    \n",
    "print('You have entered :', list_var1)\n",
    "print('The smallest number is : ',min(list_var1))"
   ]
  },
  {
   "cell_type": "code",
   "execution_count": 17,
   "metadata": {},
   "outputs": [],
   "source": [
    "# 5.20 (Pythagorean Triple)\n",
    "# Find all Pythagorean triples for side1, side2 and hypotenuse all\n",
    "# no longer than 500. Use a triple-nested for loop that tries all\n",
    "# possibilities. This is an example of brute force computing.\n",
    "\n",
    "# Pythagorean Theorem: a^2 + b^2 = c^2 (c=hypotenuse)\n",
    "# Take 3 values, a, b, c\n",
    "# Square each values, add a and b, compare with c\n",
    "# if equal, it is a triangle\n",
    "# else it is not a triangle"
   ]
  },
  {
   "cell_type": "code",
   "execution_count": 24,
   "metadata": {},
   "outputs": [
    {
     "name": "stdout",
     "output_type": "stream",
     "text": [
      " --- 1.006399393081665 seconds --- \n"
     ]
    },
    {
     "data": {
      "text/plain": [
       "\"\\noutfile = open ('Pythagorean.txt','w')\\noutfile.write()\\noutfile = close \\n\""
      ]
     },
     "execution_count": 24,
     "metadata": {},
     "output_type": "execute_result"
    }
   ],
   "source": [
    "import math, time\n",
    "\n",
    "start_time = time.time()\n",
    "\n",
    "\n",
    "# Create a file for our result\n",
    "result = open('Pythagorean.txt', 'w')\n",
    "\n",
    "for i in range (1, 101):\n",
    "    for j in range (1, 101):\n",
    "        for k in range (1, 101):\n",
    "            a = math.pow(i,2)\n",
    "            b = math.pow(j,2)\n",
    "            c = math.pow(k,2)\n",
    "            if ((a+b) == c):\n",
    "                # print('A =',a,' B=',b,' C=',c)\n",
    "                result.write('A = {0:3}, B = {1:3}, C = {2:3}\\n'.format(i, j, k))\n",
    "\n",
    "result.close()\n",
    "print(\" --- %s seconds --- \" % (time.time()-start_time))                \n",
    "\"\"\"\n",
    "outfile = open ('Pythagorean.txt','w')\n",
    "outfile.write()\n",
    "outfile = close \n",
    "\"\"\""
   ]
  },
  {
   "cell_type": "code",
   "execution_count": 27,
   "metadata": {},
   "outputs": [
    {
     "name": "stdout",
     "output_type": "stream",
     "text": [
      " --- 147.4313986301422 seconds --- \n"
     ]
    },
    {
     "data": {
      "text/plain": [
       "\"\\noutfile = open ('Pythagorean.txt','w')\\noutfile.write()\\noutfile = close \\n\""
      ]
     },
     "execution_count": 27,
     "metadata": {},
     "output_type": "execute_result"
    }
   ],
   "source": [
    "import math, time\n",
    "\n",
    "start_time = time.time()\n",
    "\n",
    "\n",
    "# Create a file for our result\n",
    "result = open('Pythagorean.txt', 'w')\n",
    "buffer = ''\n",
    "for i in range (1, 501):\n",
    "    for j in range (1, 501):\n",
    "        for k in range (1, 501):\n",
    "            a = math.pow(i,2)\n",
    "            b = math.pow(j,2)\n",
    "            c = math.pow(k,2)\n",
    "            if ((a+b) == c):\n",
    "                # print('A =',a,' B=',b,' C=',c)\n",
    "                buffer = buffer + 'A = {0:3}, B = {1:3}, C = {2:3}\\n'.format(i, j, k)\n",
    "\n",
    "result.write(buffer)\n",
    "result.close()\n",
    "print(\" --- %s seconds --- \" % (time.time()-start_time))                \n",
    "\"\"\"\n",
    "outfile = open ('Pythagorean.txt','w')\n",
    "outfile.write()\n",
    "outfile = close \n",
    "\"\"\""
   ]
  },
  {
   "cell_type": "code",
   "execution_count": null,
   "metadata": {},
   "outputs": [],
   "source": [
    "# Keyword argument\n",
    "# 'A = {a:3}, B = {b:3}, C = {c:3}\\n'.format(a=i, b=j, c=k)\n",
    "\n",
    "# Positional argument\n",
    "# buffer = buffer + 'A = {0:3}, B = {1:3}, C = {2:3}\\n'.format(i, j, k)\n",
    "\n",
    "# Slice\n",
    "# Using [] square brucket operator\n",
    "\n",
    "# {0:3} is NOT slice"
   ]
  }
 ],
 "metadata": {
  "kernelspec": {
   "display_name": "Python 3",
   "language": "python",
   "name": "python3"
  },
  "language_info": {
   "codemirror_mode": {
    "name": "ipython",
    "version": 3
   },
   "file_extension": ".py",
   "mimetype": "text/x-python",
   "name": "python",
   "nbconvert_exporter": "python",
   "pygments_lexer": "ipython3",
   "version": "3.7.0"
  }
 },
 "nbformat": 4,
 "nbformat_minor": 2
}
