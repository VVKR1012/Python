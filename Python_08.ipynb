{
 "cells": [
  {
   "cell_type": "code",
   "execution_count": 3,
   "metadata": {},
   "outputs": [
    {
     "name": "stdout",
     "output_type": "stream",
     "text": [
      "3\n",
      "5\n",
      "5\n"
     ]
    }
   ],
   "source": [
    "# Qick review \n",
    "# we did Function\n",
    "\n",
    "# How to define function\n",
    "\n",
    "def add(x, y = 0):\n",
    "    \"\"\" Adding 2 numbrers \"\"\"\n",
    "    return x + y\n",
    "\n",
    "print(add(1,2))\n",
    "print(add(5))\n",
    "print(add(0,5))"
   ]
  },
  {
   "cell_type": "code",
   "execution_count": 4,
   "metadata": {},
   "outputs": [],
   "source": [
    "# What sre the muttable & Immutable types\n",
    "# Mutable types : List, Dict and Set\n",
    "# Immutable types : String, Int, Float ... etc"
   ]
  },
  {
   "cell_type": "code",
   "execution_count": 5,
   "metadata": {},
   "outputs": [],
   "source": [
    "# two Simple Functions\n",
    "# Formula (32°F − 32) × 5/9 = 0°C\n",
    "def f_to_celsius(degree_f):\n",
    "    return (degree_f - 32) * (5 / 9)\n",
    "\n",
    "def c_to_fahreneit(degree_c):\n",
    "    return (degree_c * (9 / 5)) + 32"
   ]
  },
  {
   "cell_type": "code",
   "execution_count": 6,
   "metadata": {},
   "outputs": [
    {
     "name": "stdout",
     "output_type": "stream",
     "text": [
      "30.555555555555557\n"
     ]
    }
   ],
   "source": [
    "print(f_to_celsius(87))"
   ]
  },
  {
   "cell_type": "code",
   "execution_count": 7,
   "metadata": {},
   "outputs": [
    {
     "name": "stdout",
     "output_type": "stream",
     "text": [
      "87.02600000000001\n"
     ]
    }
   ],
   "source": [
    "print(c_to_fahreneit(30.57))"
   ]
  },
  {
   "cell_type": "code",
   "execution_count": null,
   "metadata": {},
   "outputs": [],
   "source": [
    "# some code\n",
    "# my_function = 'some_function'\n",
    "# call your operation (function) from your toolbox\n",
    "# toolbox[my_function](30)"
   ]
  },
  {
   "cell_type": "code",
   "execution_count": 13,
   "metadata": {},
   "outputs": [],
   "source": [
    "toolbox = {\n",
    "    'f':f_to_celsius, \n",
    "    'c':c_to_fahreneit\n",
    "}"
   ]
  },
  {
   "cell_type": "code",
   "execution_count": 27,
   "metadata": {},
   "outputs": [
    {
     "name": "stdout",
     "output_type": "stream",
     "text": [
      "Converting 87F to C :  31 .\n"
     ]
    }
   ],
   "source": [
    "print('Converting 87F to C : ', round(toolbox['f'](87)), '.')"
   ]
  },
  {
   "cell_type": "code",
   "execution_count": 26,
   "metadata": {},
   "outputs": [
    {
     "name": "stdout",
     "output_type": "stream",
     "text": [
      "Converting 30.57 C to F : 87 .\n"
     ]
    }
   ],
   "source": [
    "print('Converting 30.57 C to F :', round(toolbox['c'](30.57)), '.')"
   ]
  },
  {
   "cell_type": "code",
   "execution_count": 28,
   "metadata": {},
   "outputs": [
    {
     "name": "stdout",
     "output_type": "stream",
     "text": [
      "Converting 87F to C : 31.\n"
     ]
    }
   ],
   "source": [
    "print( 'Converting 87F to C : {0}.'.format(\n",
    "        round(toolbox['f'](87)))\n",
    ")"
   ]
  },
  {
   "cell_type": "code",
   "execution_count": 50,
   "metadata": {},
   "outputs": [],
   "source": [
    "# Lambda expression\n",
    "# A short hand writing one line function\n",
    "# Lambda is used to when you pass function to another function\n",
    "toolbox = {\n",
    "    # (degree_f - 32) * (5 / 9)\n",
    "    'f':lambda degree_f: (degree_f - 32) * (5 / 9),\n",
    "    # (degree_c * (9 / 5)) + 32\n",
    "    'c':lambda degree_c: degree_c * (9 / 5) + 32\n",
    "}"
   ]
  },
  {
   "cell_type": "code",
   "execution_count": 51,
   "metadata": {},
   "outputs": [
    {
     "name": "stdout",
     "output_type": "stream",
     "text": [
      "30.555555555555557\n"
     ]
    }
   ],
   "source": [
    "print(toolbox['f'](87))"
   ]
  },
  {
   "cell_type": "code",
   "execution_count": 52,
   "metadata": {},
   "outputs": [
    {
     "name": "stdout",
     "output_type": "stream",
     "text": [
      "86.0\n"
     ]
    }
   ],
   "source": [
    "print(toolbox['c'](30))"
   ]
  },
  {
   "cell_type": "code",
   "execution_count": 48,
   "metadata": {},
   "outputs": [
    {
     "name": "stdout",
     "output_type": "stream",
     "text": [
      "In decorate function myfunction\n"
     ]
    }
   ],
   "source": [
    "def decorate(func):\n",
    "    print('In decorate function',func.__name__)\n",
    "    def warpper_func(*args):\n",
    "        print('Executing', func.__name__)\n",
    "        return func(*args)\n",
    "    return warpper_func\n",
    "\n",
    "def myfunction(parm):\n",
    "    print(parm)\n",
    "myfunction  = decorate(myfunction)"
   ]
  },
  {
   "cell_type": "code",
   "execution_count": 49,
   "metadata": {
    "scrolled": true
   },
   "outputs": [
    {
     "name": "stdout",
     "output_type": "stream",
     "text": [
      "Executing myfunction\n",
      "Hello\n"
     ]
    }
   ],
   "source": [
    "myfunction('Hello')"
   ]
  },
  {
   "cell_type": "code",
   "execution_count": null,
   "metadata": {},
   "outputs": [],
   "source": []
  }
 ],
 "metadata": {
  "kernelspec": {
   "display_name": "Python 3",
   "language": "python",
   "name": "python3"
  },
  "language_info": {
   "codemirror_mode": {
    "name": "ipython",
    "version": 3
   },
   "file_extension": ".py",
   "mimetype": "text/x-python",
   "name": "python",
   "nbconvert_exporter": "python",
   "pygments_lexer": "ipython3",
   "version": "3.7.3"
  }
 },
 "nbformat": 4,
 "nbformat_minor": 2
}
