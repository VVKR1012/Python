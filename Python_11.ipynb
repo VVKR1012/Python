{
 "cells": [
  {
   "cell_type": "code",
   "execution_count": null,
   "metadata": {},
   "outputs": [],
   "source": [
    "# Skype call with George on 08/13/2019"
   ]
  },
  {
   "cell_type": "code",
   "execution_count": 1,
   "metadata": {},
   "outputs": [
    {
     "data": {
      "text/plain": [
       "'C:\\\\Users\\\\vijay'"
      ]
     },
     "execution_count": 1,
     "metadata": {},
     "output_type": "execute_result"
    }
   ],
   "source": [
    "# import OS library  \n",
    "import os\n",
    "# Get current folder path\n",
    "os.getcwd()"
   ]
  },
  {
   "cell_type": "code",
   "execution_count": 2,
   "metadata": {},
   "outputs": [
    {
     "data": {
      "text/plain": [
       "'.'"
      ]
     },
     "execution_count": 2,
     "metadata": {},
     "output_type": "execute_result"
    }
   ],
   "source": [
    "# os.curdir return '.' , it means current folder\n",
    "os.curdir"
   ]
  },
  {
   "cell_type": "code",
   "execution_count": 3,
   "metadata": {},
   "outputs": [],
   "source": [
    "# Changing Directory with in folder\n",
    "os.chdir('.\\SQL')"
   ]
  },
  {
   "cell_type": "code",
   "execution_count": 4,
   "metadata": {},
   "outputs": [
    {
     "data": {
      "text/plain": [
       "'C:\\\\Users\\\\vijay\\\\SQL'"
      ]
     },
     "execution_count": 4,
     "metadata": {},
     "output_type": "execute_result"
    }
   ],
   "source": [
    "# Get cuurent path\n",
    "os.getcwd()"
   ]
  },
  {
   "cell_type": "code",
   "execution_count": null,
   "metadata": {},
   "outputs": [],
   "source": [
    "# Returning a list of files or folders from current folder\n",
    "os.listdir(os.curdir)"
   ]
  },
  {
   "cell_type": "code",
   "execution_count": 5,
   "metadata": {},
   "outputs": [
    {
     "data": {
      "text/plain": [
       "['Ch_99_SQL_Toolbox.sql',\n",
       " 'Ch_11_Conditional_Logic.sql',\n",
       " 'Ch_10_Joins_Revisited.sql',\n",
       " 'Ch_09_Subqeries.sql',\n",
       " 'Ch_08_Group_Aggregates.sql',\n",
       " 'Ch_07_Data_Manipulation.sql',\n",
       " 'Ch_06_Sets.sql',\n",
       " 'Ch_05_Query_Mult_Tables.sql',\n",
       " 'Ch_04_Filtering.sql',\n",
       " 'Ch_03_Query_Primer.sql',\n",
       " 'Ch_02_Creating_Database.sql',\n",
       " 'Ch_01_Summary.sql']"
      ]
     },
     "execution_count": 5,
     "metadata": {},
     "output_type": "execute_result"
    }
   ],
   "source": [
    "# Reverse files & folders in reverse order\n",
    "sql_file = sorted(os.listdir(os.curdir),reverse=True)\n",
    "sql_file"
   ]
  },
  {
   "cell_type": "code",
   "execution_count": 7,
   "metadata": {},
   "outputs": [
    {
     "name": "stdout",
     "output_type": "stream",
     "text": [
      "Ch_99\n",
      "Ch_11\n",
      "Ch_10\n",
      "Ch_09\n",
      "Ch_08\n",
      "Ch_07\n",
      "Ch_06\n",
      "Ch_05\n",
      "Ch_04\n",
      "Ch_03\n",
      "Ch_02\n",
      "Ch_01\n"
     ]
    }
   ],
   "source": [
    "# Get files names first 5 charecters\n",
    "for file in sql_file:\n",
    "    print(file[0:5])"
   ]
  },
  {
   "cell_type": "code",
   "execution_count": 11,
   "metadata": {},
   "outputs": [
    {
     "name": "stdout",
     "output_type": "stream",
     "text": [
      "1 |SQL|Toolbox|\n",
      "2 |Conditional|Logic|\n",
      "3 |Joins|Revisited|\n",
      "4 |Subqeries|\n",
      "5 |Group|Aggregates|\n",
      "6 |Data|Manipulation|\n",
      "7 |Sets|\n",
      "8 |Query|Mult|Tables|\n",
      "9 |Filtering|\n",
      "10 |Query|Primer|\n",
      "11 |Creating|Database|\n",
      "12 |Summary|\n"
     ]
    }
   ],
   "source": [
    "# get files names with out chapter names and numbers, print file sequence number and replace space with pipe('|') symbol\n",
    "count = 1 # Intialise Variable \n",
    "for file in sql_file:\n",
    "    print(count, '|' + file[6:-4].replace('_','|') + '|')\n",
    "    count += 1"
   ]
  },
  {
   "cell_type": "code",
   "execution_count": 13,
   "metadata": {},
   "outputs": [
    {
     "name": "stdout",
     "output_type": "stream",
     "text": [
      "1 |SQL|Toolbox|\n",
      "2 |Conditional|Logic|\n",
      "3 |Joins|Revisited|\n",
      "4 |Subqeries|\n",
      "5 |Group|Aggregates|\n",
      "6 |Data|Manipulation|\n",
      "7 |Sets|\n",
      "8 |Query|Mult|Tables|\n",
      "9 |Filtering|\n",
      "10 |Query|Primer|\n",
      "11 |Creating|Database|\n",
      "12 |Summary|\n",
      "Total number of files are : 12\n"
     ]
    }
   ],
   "source": [
    "# Repeat above requirement with list of total number of files\n",
    "count1 = 0\n",
    "for file in sql_file:\n",
    "    count1 += 1\n",
    "    print(count1 , '|' + file[6:-4].replace('_','|') + '|')\n",
    "    \n",
    "print('Total number of files are : ' + str(count1))"
   ]
  },
  {
   "cell_type": "code",
   "execution_count": 15,
   "metadata": {},
   "outputs": [
    {
     "name": "stdout",
     "output_type": "stream",
     "text": [
      "1 |Python|01-checkpoint.ipynb|\n",
      "2 |Python|02-checkpoint.ipynb|\n",
      "3 |Python|03-checkpoint.ipynb|\n",
      "4 |Python|04-checkpoint.ipynb|\n",
      "5 |Python|05-checkpoint.ipynb|\n",
      "6 |Python|06-checkpoint.ipynb|\n",
      "7 |Python|07-checkpoint.ipynb|\n",
      "8 |Python|08-checkpoint.ipynb|\n",
      "9 |Python|09-checkpoint.ipynb|\n",
      "10 |Python|11-checkpoint.ipynb|\n",
      "11 |Untitled-checkpoint.ipynb|\n",
      "12 |Untitled1-checkpoint.ipynb|\n",
      "13 |Untitled2-checkpoint.ipynb|\n",
      "Total number of files are : 13\n"
     ]
    }
   ],
   "source": [
    "# Write a function to get list of files with file sequence number and replace space with pipe('|') symbol\n",
    "def get_files(folder):\n",
    "    count1 = 0\n",
    "    for file in folder:\n",
    "        count1 += 1\n",
    "        print(count1 , '|' + file.replace('_','|') + '|')\n",
    "    \n",
    "    print('Total number of files are : ' + str(count1))\n",
    "    \n",
    "# get_files(os.listdir(os.curdir))\n",
    "\n",
    "get_files(os.listdir(r'C:\\Users\\vijay\\.ipynb_checkpoints'))"
   ]
  }
 ],
 "metadata": {
  "kernelspec": {
   "display_name": "Python 3",
   "language": "python",
   "name": "python3"
  },
  "language_info": {
   "codemirror_mode": {
    "name": "ipython",
    "version": 3
   },
   "file_extension": ".py",
   "mimetype": "text/x-python",
   "name": "python",
   "nbconvert_exporter": "python",
   "pygments_lexer": "ipython3",
   "version": "3.7.3"
  }
 },
 "nbformat": 4,
 "nbformat_minor": 2
}
