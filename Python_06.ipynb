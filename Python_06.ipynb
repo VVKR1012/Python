{
 "cells": [
  {
   "cell_type": "code",
   "execution_count": 2,
   "metadata": {},
   "outputs": [
    {
     "name": "stdout",
     "output_type": "stream",
     "text": [
      "Testing\n"
     ]
    }
   ],
   "source": [
    "# Finctions\n",
    "# How to create a function in python?\n",
    "\n",
    "def name_of_function(arg1,arg2):\n",
    "    print('Testing')\n",
    "\n",
    "# calling function with numeric arguments\n",
    "name_of_function(1,2)"
   ]
  },
  {
   "cell_type": "code",
   "execution_count": 3,
   "metadata": {},
   "outputs": [
    {
     "name": "stdout",
     "output_type": "stream",
     "text": [
      "Testing\n"
     ]
    }
   ],
   "source": [
    "# calling function with Charecter arguments\n",
    "name_of_function('Vijaya','George')"
   ]
  },
  {
   "cell_type": "code",
   "execution_count": 6,
   "metadata": {},
   "outputs": [
    {
     "name": "stdout",
     "output_type": "stream",
     "text": [
      "100\n"
     ]
    }
   ],
   "source": [
    "# A Python function that returns a value\n",
    "def myfun():\n",
    "    return 100\n",
    "my_num = myfun()\n",
    "print(my_num)"
   ]
  },
  {
   "cell_type": "code",
   "execution_count": 7,
   "metadata": {},
   "outputs": [
    {
     "name": "stdout",
     "output_type": "stream",
     "text": [
      "Testing\n"
     ]
    },
    {
     "data": {
      "text/plain": [
       "NoneType"
      ]
     },
     "execution_count": 7,
     "metadata": {},
     "output_type": "execute_result"
    }
   ],
   "source": [
    "# if you write any function that doesn't return\n",
    "# python return \"None\" behalf of you.\n",
    "my_return = name_of_function(1,2)\n",
    "type(my_return)"
   ]
  },
  {
   "cell_type": "code",
   "execution_count": 10,
   "metadata": {},
   "outputs": [
    {
     "data": {
      "text/plain": [
       "int"
      ]
     },
     "execution_count": 10,
     "metadata": {},
     "output_type": "execute_result"
    }
   ],
   "source": [
    "# Another test - Cheking the return type of our function\n",
    "# myfun, where it a number\n",
    "type(myfun())"
   ]
  },
  {
   "cell_type": "code",
   "execution_count": 12,
   "metadata": {},
   "outputs": [
    {
     "data": {
      "text/plain": [
       "function"
      ]
     },
     "execution_count": 12,
     "metadata": {},
     "output_type": "execute_result"
    }
   ],
   "source": [
    "# But Function is actually an object in python\n",
    "type(myfun)"
   ]
  },
  {
   "cell_type": "code",
   "execution_count": 13,
   "metadata": {},
   "outputs": [],
   "source": [
    "# proper documentation style for your function\n",
    "# Doc String\n",
    "def print_name(name):\n",
    "    \"\"\" Print name to the scrren \"\"\"\n",
    "    print(name)\n",
    "    "
   ]
  },
  {
   "cell_type": "code",
   "execution_count": 15,
   "metadata": {},
   "outputs": [
    {
     "data": {
      "text/plain": [
       "' Print name to the scrren '"
      ]
     },
     "execution_count": 15,
     "metadata": {},
     "output_type": "execute_result"
    }
   ],
   "source": [
    "# you can get the doc string by using function_name.__doc__\n",
    "print_name.__doc__"
   ]
  },
  {
   "cell_type": "code",
   "execution_count": 16,
   "metadata": {},
   "outputs": [],
   "source": [
    "# Another way to access the function's docuemnt string\n",
    "print_name?"
   ]
  },
  {
   "cell_type": "code",
   "execution_count": 17,
   "metadata": {},
   "outputs": [],
   "source": [
    "# This works for any function\n",
    "len?"
   ]
  },
  {
   "cell_type": "code",
   "execution_count": 20,
   "metadata": {},
   "outputs": [
    {
     "name": "stdout",
     "output_type": "stream",
     "text": [
      "2^2: 4\n",
      "2^2: 4\n",
      "3^5: 243\n",
      "3^5: 243\n"
     ]
    }
   ],
   "source": [
    "# let's do the optional parameter\n",
    "def power(x, y=2):\n",
    "    r =1\n",
    "    while y>0:\n",
    "        r = r *x\n",
    "        y = y -1\n",
    "    return r\n",
    "\n",
    "print('2^2:', power(2,2))\n",
    "print('2^2:', power(2))\n",
    "print('3^5:', power(3,5))\n",
    "\n",
    "# but this also works\n",
    "print('3^5:', power(y=5, x=3))"
   ]
  },
  {
   "cell_type": "code",
   "execution_count": 24,
   "metadata": {},
   "outputs": [
    {
     "data": {
      "text/plain": [
       "20"
      ]
     },
     "execution_count": 24,
     "metadata": {},
     "output_type": "execute_result"
    }
   ],
   "source": [
    "# you can also pass unknown parameters to it\n",
    "my_num_list = [10, 1, 5, 20, -1]\n",
    "\n",
    "# Write a function that get the maximum value\n",
    "\n",
    "def find_max(arg1):\n",
    "    \"\"\" Sort the list with sorted function then get -1 index value from List. \"\"\"\n",
    "    return sorted(arg1)[-1]\n",
    "    \n",
    "find_max(my_num_list)"
   ]
  },
  {
   "cell_type": "code",
   "execution_count": 25,
   "metadata": {},
   "outputs": [
    {
     "data": {
      "text/plain": [
       "' Sort the list with sorted function then get -1 index value from List. '"
      ]
     },
     "execution_count": 25,
     "metadata": {},
     "output_type": "execute_result"
    }
   ],
   "source": [
    "find_max.__doc__"
   ]
  },
  {
   "cell_type": "code",
   "execution_count": 27,
   "metadata": {},
   "outputs": [
    {
     "data": {
      "text/plain": [
       "20"
      ]
     },
     "execution_count": 27,
     "metadata": {},
     "output_type": "execute_result"
    }
   ],
   "source": [
    "# taking integer(parameters directly), If there is more than 1 number, \n",
    "# it will be converted into Tuple and you are sorting tuple\n",
    "def find_another_max(*number):\n",
    "    \"\"\" Find the largest number from a unknown of int \"\"\"\n",
    "    if len(number) == 0:\n",
    "        return None\n",
    "    else:\n",
    "        return sorted(number)[-1]\n",
    "find_another_max(10, 1, 5, 20, -1)"
   ]
  },
  {
   "cell_type": "code",
   "execution_count": 29,
   "metadata": {},
   "outputs": [
    {
     "data": {
      "text/plain": [
       "30"
      ]
     },
     "execution_count": 29,
     "metadata": {},
     "output_type": "execute_result"
    }
   ],
   "source": [
    "find_another_max(10, 20, 30)"
   ]
  },
  {
   "cell_type": "code",
   "execution_count": null,
   "metadata": {},
   "outputs": [],
   "source": []
  }
 ],
 "metadata": {
  "kernelspec": {
   "display_name": "Python 3",
   "language": "python",
   "name": "python3"
  },
  "language_info": {
   "codemirror_mode": {
    "name": "ipython",
    "version": 3
   },
   "file_extension": ".py",
   "mimetype": "text/x-python",
   "name": "python",
   "nbconvert_exporter": "python",
   "pygments_lexer": "ipython3",
   "version": "3.7.3"
  }
 },
 "nbformat": 4,
 "nbformat_minor": 2
}
