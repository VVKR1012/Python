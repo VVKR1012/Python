{
 "cells": [
  {
   "cell_type": "code",
   "execution_count": 1,
   "metadata": {},
   "outputs": [],
   "source": [
    "# python always pass by refernece\n",
    "# if the argument is mutable, it can be chnaged inside\n",
    "# if the argument is immutable, it can be pass as a copy\n",
    "\n",
    "# Can Chnage\n",
    "# Mutable : List, Set, Dictionary\n",
    "\n",
    "# Can't Chnage\n",
    "# Immutable : Int, Float, String, Tuple, Boolean"
   ]
  },
  {
   "cell_type": "code",
   "execution_count": 2,
   "metadata": {},
   "outputs": [
    {
     "data": {
      "text/plain": [
       "5"
      ]
     },
     "execution_count": 2,
     "metadata": {},
     "output_type": "execute_result"
    }
   ],
   "source": [
    "# Example with Int\n",
    "mynum = 5\n",
    "mynum"
   ]
  },
  {
   "cell_type": "code",
   "execution_count": 3,
   "metadata": {},
   "outputs": [],
   "source": [
    "# You are re-assignment the variable to NEW int object\n",
    "mynum = 6"
   ]
  },
  {
   "cell_type": "code",
   "execution_count": 5,
   "metadata": {},
   "outputs": [],
   "source": [
    "# you can't chnage an Int\n",
    "# SyntaxError: can't assign to literal\n",
    "# 5 = 6"
   ]
  },
  {
   "cell_type": "code",
   "execution_count": 11,
   "metadata": {},
   "outputs": [
    {
     "name": "stdout",
     "output_type": "stream",
     "text": [
      "Before : [1, 2, 3]\n",
      "After : [1, 2, 3, 4]\n"
     ]
    }
   ],
   "source": [
    "# create a list\n",
    "my_list = [1, 2, 3]\n",
    "# print('Before :' + str(my_list))\n",
    "print('Before :', my_list)\n",
    "\n",
    "# Changing the list\n",
    "my_list.append(4)\n",
    "print('After :', my_list)"
   ]
  },
  {
   "cell_type": "code",
   "execution_count": 20,
   "metadata": {},
   "outputs": [
    {
     "name": "stdout",
     "output_type": "stream",
     "text": [
      "In function n: -20\n",
      "But outside is not changed: 100\n"
     ]
    },
    {
     "data": {
      "text/plain": [
       "' Reassign -20 to scrren. \\n     n is being referenced to a new ineger object, no longer the same as (some_number) '"
      ]
     },
     "execution_count": 20,
     "metadata": {},
     "output_type": "execute_result"
    }
   ],
   "source": [
    "some_number = 100\n",
    "\n",
    "def some_function(n):\n",
    "    \"\"\" Reassign -20 to scrren. \n",
    "     n is being referenced to a new ineger object, no longer the same as (some_number) \"\"\"\n",
    "    n = -20\n",
    "    print('In function n:', n)\n",
    "    \n",
    "some_function(some_number)\n",
    "print('But outside is not changed:', some_number)\n",
    "some_function.__doc__"
   ]
  },
  {
   "cell_type": "code",
   "execution_count": 23,
   "metadata": {},
   "outputs": [
    {
     "name": "stdout",
     "output_type": "stream",
     "text": [
      "some_number before function call: 100\n",
      "In function some_number: -20\n",
      "But outside is now changed: -20\n"
     ]
    }
   ],
   "source": [
    "# Chnaging the refernce to the integer variable\n",
    "# outside of the function using global scope\n",
    "\n",
    "some_number = 100\n",
    "\n",
    "print('some_number before function call:', some_number)\n",
    "\n",
    "def some_function():\n",
    "    global some_number\n",
    "    some_number = -20\n",
    "    print('In function some_number:', some_number)\n",
    "\n",
    "some_function()\n",
    "print('But outside is now changed:', some_number)"
   ]
  },
  {
   "cell_type": "code",
   "execution_count": 28,
   "metadata": {},
   "outputs": [
    {
     "name": "stdout",
     "output_type": "stream",
     "text": [
      "Before :  100\n",
      "After :  -20\n"
     ]
    },
    {
     "data": {
      "text/plain": [
       "function"
      ]
     },
     "execution_count": 28,
     "metadata": {},
     "output_type": "execute_result"
    }
   ],
   "source": [
    "# or you can also do it this way (recommended)\n",
    "some_number = 100\n",
    "\n",
    "print ('Before : ', some_number)\n",
    "\n",
    "def negative_20(n):\n",
    "    return -20\n",
    "\n",
    "some_number = negative_20(some_number)\n",
    "print ('After : ', some_number)\n",
    "type(negative_20)"
   ]
  },
  {
   "cell_type": "code",
   "execution_count": 30,
   "metadata": {},
   "outputs": [
    {
     "name": "stdout",
     "output_type": "stream",
     "text": [
      "Minus_20 type :  <class 'function'>\n",
      "-20\n"
     ]
    }
   ],
   "source": [
    "# Assign the function to a variable\n",
    "minus_20 = negative_20\n",
    "print('Minus_20 type : ', type(minus_20))\n",
    "\n",
    "# may be someone write really long name\n",
    "# minus_20 = On_Monday_we_can_check_and_then_give_negative_20\n",
    "\n",
    "another_num = 100\n",
    "minus_20(another_num)\n",
    "\n",
    "# if you want to chnage\n",
    "another_num = minus_20(another_num)\n",
    "print(another_num)\n"
   ]
  },
  {
   "cell_type": "code",
   "execution_count": 31,
   "metadata": {},
   "outputs": [
    {
     "data": {
      "text/plain": [
       "dict"
      ]
     },
     "execution_count": 31,
     "metadata": {},
     "output_type": "execute_result"
    }
   ],
   "source": [
    "toolbox = {}\n",
    "type(toolbox)"
   ]
  },
  {
   "cell_type": "code",
   "execution_count": 32,
   "metadata": {},
   "outputs": [
    {
     "data": {
      "text/plain": [
       "-20"
      ]
     },
     "execution_count": 32,
     "metadata": {},
     "output_type": "execute_result"
    }
   ],
   "source": [
    "# Adding the function (object) we created into this dict\n",
    "# We are associating the string 'minus_20' with your function object\n",
    "# but the de\n",
    "toolbox = {'minus_20' : minus_20}\n",
    "\n",
    "# Invoking our minus_20 function\n",
    "# dict['fun_name'](parameters)\n",
    "toolbox['minus_20'](100)"
   ]
  },
  {
   "cell_type": "code",
   "execution_count": null,
   "metadata": {},
   "outputs": [],
   "source": []
  }
 ],
 "metadata": {
  "kernelspec": {
   "display_name": "Python 3",
   "language": "python",
   "name": "python3"
  },
  "language_info": {
   "codemirror_mode": {
    "name": "ipython",
    "version": 3
   },
   "file_extension": ".py",
   "mimetype": "text/x-python",
   "name": "python",
   "nbconvert_exporter": "python",
   "pygments_lexer": "ipython3",
   "version": "3.7.3"
  }
 },
 "nbformat": 4,
 "nbformat_minor": 2
}
