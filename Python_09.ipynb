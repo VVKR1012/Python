{
 "cells": [
  {
   "cell_type": "code",
   "execution_count": 9,
   "metadata": {},
   "outputs": [],
   "source": [
    "# Write a smaple dictionaty called calculate_area\n",
    "# that has a functions\n",
    "# Square : length * width\n",
    "# Circle : pi * radious ^ 2\n",
    "# Triangle : (1/2) * base * width\n",
    "\n",
    "# Must contain proper docstring and use Lambda\n",
    "\n",
    "# Example of how to import from other standard library\n",
    "from math import pi, pow\n",
    "\n",
    "calculate_area = {\n",
    "    's':lambda ln, wi : ln * wi,\n",
    "    'c':lambda rd : pi * pow (rd, 2),\n",
    "    't':lambda bs, wi : (1/2) * bs * wi\n",
    "}"
   ]
  },
  {
   "cell_type": "code",
   "execution_count": 10,
   "metadata": {},
   "outputs": [
    {
     "name": "stdout",
     "output_type": "stream",
     "text": [
      "4\n"
     ]
    }
   ],
   "source": [
    "print(calculate_area['s'](2,2))"
   ]
  },
  {
   "cell_type": "code",
   "execution_count": 11,
   "metadata": {},
   "outputs": [
    {
     "name": "stdout",
     "output_type": "stream",
     "text": [
      "31415.926535897932\n"
     ]
    }
   ],
   "source": [
    "print(calculate_area['c'](100))"
   ]
  },
  {
   "cell_type": "code",
   "execution_count": 12,
   "metadata": {},
   "outputs": [
    {
     "name": "stdout",
     "output_type": "stream",
     "text": [
      "5.0\n"
     ]
    }
   ],
   "source": [
    "print(calculate_area['t'](2,5))"
   ]
  },
  {
   "cell_type": "code",
   "execution_count": 13,
   "metadata": {},
   "outputs": [],
   "source": [
    "# Discussion about file system\n",
    "# OS : miscellaneous operating system interfaces\n",
    "import os"
   ]
  },
  {
   "cell_type": "code",
   "execution_count": 14,
   "metadata": {},
   "outputs": [
    {
     "data": {
      "text/plain": [
       "'C:\\\\Users\\\\vijay'"
      ]
     },
     "execution_count": 14,
     "metadata": {},
     "output_type": "execute_result"
    }
   ],
   "source": [
    "# Ask python to tell you what folder this )program is stored at\n",
    "# in windows we have double \\\\, because a single \\ charecter represent escape char - to allow you to type special \n",
    "# Charecter other wise not permited\n",
    "os.getcwd()"
   ]
  },
  {
   "cell_type": "code",
   "execution_count": 16,
   "metadata": {},
   "outputs": [
    {
     "name": "stdout",
     "output_type": "stream",
     "text": [
      "C:\\Users\\Vimala\n"
     ]
    }
   ],
   "source": [
    "# In windows if you want to create a path, there are 2 ways\n",
    "# method 1 - using escape sequence\n",
    "my_path = 'C:\\\\Users\\\\Vimala'\n",
    "print(my_path)"
   ]
  },
  {
   "cell_type": "code",
   "execution_count": 19,
   "metadata": {},
   "outputs": [
    {
     "name": "stdout",
     "output_type": "stream",
     "text": [
      "C:\\Users\\Vimala\n"
     ]
    }
   ],
   "source": [
    "# method 2 - more convenience using raw string\n",
    "my_path2 = r'C:\\Users\\Vimala'\n",
    "print(my_path2)"
   ]
  },
  {
   "cell_type": "code",
   "execution_count": 21,
   "metadata": {},
   "outputs": [
    {
     "data": {
      "text/plain": [
       "True"
      ]
     },
     "execution_count": 21,
     "metadata": {},
     "output_type": "execute_result"
    }
   ],
   "source": [
    "# Compare 2 ways created paths, they should be same\n",
    "my_path == my_path2"
   ]
  },
  {
   "cell_type": "code",
   "execution_count": 34,
   "metadata": {},
   "outputs": [
    {
     "name": "stdout",
     "output_type": "stream",
     "text": [
      "List of items in current directory :  57\n"
     ]
    }
   ],
   "source": [
    "my_items = os.listdir(os.curdir)\n",
    "print('List of items in current directory : ', len(my_items))"
   ]
  },
  {
   "cell_type": "code",
   "execution_count": 35,
   "metadata": {},
   "outputs": [
    {
     "data": {
      "text/plain": [
       "['.anaconda', '.conda', '.condarc', '.idlerc', '.ipynb_checkpoints']"
      ]
     },
     "execution_count": 35,
     "metadata": {},
     "output_type": "execute_result"
    }
   ],
   "source": [
    "# Disply first 5 items \n",
    "my_items[:5]"
   ]
  },
  {
   "cell_type": "code",
   "execution_count": 36,
   "metadata": {},
   "outputs": [
    {
     "data": {
      "text/plain": [
       "['Templates', 'Untitled.ipynb', 'Untitled1.ipynb', 'Untitled2.ipynb', 'Videos']"
      ]
     },
     "execution_count": 36,
     "metadata": {},
     "output_type": "execute_result"
    }
   ],
   "source": [
    "# Disply last 5 items \n",
    "my_items[-5:]"
   ]
  },
  {
   "cell_type": "code",
   "execution_count": 42,
   "metadata": {},
   "outputs": [
    {
     "name": "stdout",
     "output_type": "stream",
     "text": [
      "File Count : 28\n",
      "Folder Count : 29\n"
     ]
    }
   ],
   "source": [
    "count_of_file, count_of_folder = 0, 0\n",
    "for item in os.listdir(os.curdir):\n",
    "    if '.' in item:\n",
    "        count_of_file += 1\n",
    "    else:\n",
    "        count_of_folder += 1\n",
    "        \n",
    "print('File Count :', count_of_file)\n",
    "print('Folder Count :', count_of_folder)"
   ]
  },
  {
   "cell_type": "code",
   "execution_count": 50,
   "metadata": {},
   "outputs": [
    {
     "name": "stdout",
     "output_type": "stream",
     "text": [
      "C:\\Users\\vijay\n",
      "File Count :  28\n",
      "Folder Count :  29\n"
     ]
    }
   ],
   "source": [
    "def count_files_folder(path):\n",
    "    file_count, folder_count = 0,0\n",
    "    for item in os.listdir(path):\n",
    "        if '.' in item:\n",
    "            file_count += 1\n",
    "        else:\n",
    "            folder_count += 1\n",
    "    print(os.path.abspath(path))\n",
    "    print('File Count : ', file_count)\n",
    "    print('Folder Count : ', folder_count)\n",
    "\n",
    "count_files_folder(r'C:\\Users\\vijay')"
   ]
  },
  {
   "cell_type": "code",
   "execution_count": 51,
   "metadata": {},
   "outputs": [
    {
     "name": "stdout",
     "output_type": "stream",
     "text": [
      "C:\\Users\\vijay\n",
      "File Count :  28\n",
      "Folder Count :  29\n"
     ]
    }
   ],
   "source": [
    "count_files_folder(os.curdir)"
   ]
  }
 ],
 "metadata": {
  "kernelspec": {
   "display_name": "Python 3",
   "language": "python",
   "name": "python3"
  },
  "language_info": {
   "codemirror_mode": {
    "name": "ipython",
    "version": 3
   },
   "file_extension": ".py",
   "mimetype": "text/x-python",
   "name": "python",
   "nbconvert_exporter": "python",
   "pygments_lexer": "ipython3",
   "version": "3.7.3"
  }
 },
 "nbformat": 4,
 "nbformat_minor": 2
}
