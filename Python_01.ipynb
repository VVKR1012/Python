{
 "cells": [
  {
   "cell_type": "code",
   "execution_count": 4,
   "metadata": {},
   "outputs": [
    {
     "name": "stdout",
     "output_type": "stream",
     "text": [
      "C:\\Users\\vijay\n"
     ]
    }
   ],
   "source": [
    "# Default file location\n",
    "!cd"
   ]
  },
  {
   "cell_type": "code",
   "execution_count": 5,
   "metadata": {},
   "outputs": [
    {
     "name": "stdout",
     "output_type": "stream",
     "text": [
      "Hello World\n"
     ]
    }
   ],
   "source": [
    "print('Hello World')"
   ]
  },
  {
   "cell_type": "code",
   "execution_count": 8,
   "metadata": {},
   "outputs": [
    {
     "name": "stdout",
     "output_type": "stream",
     "text": [
      "mynumber is = 25\n"
     ]
    }
   ],
   "source": [
    "my_num=5\n",
    "my_num=5*5\n",
    "\n",
    "# In order to join a number with string \n",
    "print('mynumber is = ' + str(my_num))"
   ]
  },
  {
   "cell_type": "code",
   "execution_count": 11,
   "metadata": {},
   "outputs": [
    {
     "name": "stdout",
     "output_type": "stream",
     "text": [
      "What is your name: Vijaya\n",
      "my name is Vijaya\n"
     ]
    }
   ],
   "source": [
    "myname=input('What is your name: ')\n",
    "print('my name is: ' + myname)"
   ]
  },
  {
   "cell_type": "code",
   "execution_count": 15,
   "metadata": {},
   "outputs": [
    {
     "name": "stdout",
     "output_type": "stream",
     "text": [
      "What is your age: 36\n",
      "You are born on: :1983\n"
     ]
    }
   ],
   "source": [
    "my_age=input('What is your age: ')\n",
    "year=2019-int(my_age)\n",
    "\n",
    "# print('you born on :' + str(year))\n",
    "\n",
    "#Another Method to casting\n",
    "\n",
    "print('You are born on: ', end=':')\n",
    "print(year)"
   ]
  },
  {
   "cell_type": "code",
   "execution_count": 21,
   "metadata": {},
   "outputs": [
    {
     "name": "stdout",
     "output_type": "stream",
     "text": [
      "Vijaya born on 1983\n",
      "Vijaya born on 1983\n",
      "Vijaya born on 1983\n"
     ]
    }
   ],
   "source": [
    "# String format method\n",
    "output = '{} born on {}'.format(myname,year)\n",
    "print(output)\n",
    "\n",
    "# String format method with Unorder format\n",
    "output2='{person} born on {time}'.format(person=myname,time=year)\n",
    "print(output2)\n",
    "\n",
    "# String format with list\n",
    "my_list=['Vijaya',1983]\n",
    "output3='{p1} born on {t1}'.format(p1=my_list[0],t1=my_list[1])\n",
    "print(output3)"
   ]
  },
  {
   "cell_type": "code",
   "execution_count": 33,
   "metadata": {},
   "outputs": [
    {
     "name": "stdout",
     "output_type": "stream",
     "text": [
      "1: 8.925340932039372\n",
      "2: 3.8804185941496803\n",
      "3: 0.1547453272335375\n",
      "4: 1.9455824302730795\n",
      "5: 6.574666285307175\n"
     ]
    }
   ],
   "source": [
    "# Generate a randome integere between 0 to 10\n",
    "import random\n",
    "\n",
    "foo=random.randint(0,10)\n",
    "# print(foo)\n",
    "\n",
    "# loop 5 times\n",
    "for index in range(1,6):\n",
    "    # generate a randome Float between 0 to 10\n",
    "    bar=random.uniform(0,10)\n",
    "    print(index,end=': ')\n",
    "    print(bar)"
   ]
  },
  {
   "cell_type": "code",
   "execution_count": 38,
   "metadata": {},
   "outputs": [
    {
     "name": "stdout",
     "output_type": "stream",
     "text": [
      "10, 9, 8, 7, 6, 5, 4, 3, 2, 1, 0"
     ]
    }
   ],
   "source": [
    "# Count from 10 to 0\n",
    "for i in range(10,-1,-1):\n",
    "    if i == 0:\n",
    "        print(i,end='')\n",
    "    else:\n",
    "        print(i,end=', ')"
   ]
  },
  {
   "cell_type": "code",
   "execution_count": 43,
   "metadata": {},
   "outputs": [],
   "source": [
    "# Write data to a file\n",
    "# w - write\n",
    "# r - read\n",
    "# a - append\n",
    "\n",
    "file=open('hello_world.txt','w')\n",
    "file.write('Hello world')\n",
    "file.close()\n",
    "\n",
    "file=open('hello_world.txt','a')\n",
    "file.write('\\nHello world second time')\n",
    "file.close()\n"
   ]
  },
  {
   "cell_type": "code",
   "execution_count": 46,
   "metadata": {},
   "outputs": [
    {
     "name": "stdout",
     "output_type": "stream",
     "text": [
      "Hello world\n",
      "Hello world second time\n"
     ]
    }
   ],
   "source": [
    "file=open('hello_world.txt','r')\n",
    "data_list=file.readlines()\n",
    "file.close()\n",
    "\n",
    "# Lopp to print it out\n",
    "\n",
    "for line in data_list:\n",
    "    print(line.rstrip())"
   ]
  },
  {
   "cell_type": "code",
   "execution_count": 48,
   "metadata": {
    "scrolled": false
   },
   "outputs": [],
   "source": [
    "# Diplay files in directory\n",
    "import os\n",
    "\n",
    "# for folder,subfolders,files in os.walk(os.getcwd()):\n",
    "    # for file in files:\n",
    "        # print(os.path.join(folder,file))"
   ]
  },
  {
   "cell_type": "code",
   "execution_count": null,
   "metadata": {},
   "outputs": [],
   "source": []
  }
 ],
 "metadata": {
  "kernelspec": {
   "display_name": "Python 3",
   "language": "python",
   "name": "python3"
  },
  "language_info": {
   "codemirror_mode": {
    "name": "ipython",
    "version": 3
   },
   "file_extension": ".py",
   "mimetype": "text/x-python",
   "name": "python",
   "nbconvert_exporter": "python",
   "pygments_lexer": "ipython3",
   "version": "3.7.3"
  }
 },
 "nbformat": 4,
 "nbformat_minor": 2
}
