{
 "cells": [
  {
   "cell_type": "code",
   "execution_count": null,
   "metadata": {},
   "outputs": [],
   "source": [
    "# Debugging with logging and exception"
   ]
  },
  {
   "cell_type": "code",
   "execution_count": null,
   "metadata": {},
   "outputs": [],
   "source": [
    "# Make simple function\n",
    "def name_print(name):\n",
    "    \"\"\" Take a string and print on screen \"\"\"\n",
    "    print('Hello', name)\n",
    "    \n",
    "my_name = input('Please enter your name : ')\n",
    "name_print(my_name)"
   ]
  },
  {
   "cell_type": "code",
   "execution_count": 1,
   "metadata": {},
   "outputs": [
    {
     "name": "stdout",
     "output_type": "stream",
     "text": [
      "Please enter your name :     Vijaya\n",
      "Vijaya\n"
     ]
    }
   ],
   "source": [
    "# but we dont have error cheking or handeling when it isn't a proper name\n",
    "def name_print_better(name):\n",
    "    name = name.strip()\n",
    "    \"\"\" Take a string and print on screen \"\"\"\n",
    "    if not (name.isalpha()):\n",
    "        raise Exception ('Name must be in letters')\n",
    "    print(name)\n",
    "my_name = input('Please enter your name : ')\n",
    "name_print_better(my_name)"
   ]
  },
  {
   "cell_type": "code",
   "execution_count": null,
   "metadata": {},
   "outputs": [],
   "source": [
    "while True:\n",
    "    current_name = input('Please enter a name : (q to exit) ')\n",
    "    \n",
    "    if current_name.lower() == 'q':\n",
    "        break\n",
    "        \n",
    "    if (current_name.isalpha()):\n",
    "        name_print_better(current_name)\n",
    "    else:\n",
    "        print (\"Sorry, \", current_name, \" is invalid\")"
   ]
  },
  {
   "cell_type": "code",
   "execution_count": 5,
   "metadata": {},
   "outputs": [
    {
     "name": "stdout",
     "output_type": "stream",
     "text": [
      "The sum of 1 +2 is : 3\n"
     ]
    }
   ],
   "source": [
    "# Example from the book\n",
    "def simple_function(one, two):\n",
    "    if one != 1:\n",
    "        raise Exception ('Variable one must be 1 ')\n",
    "    if two != 2:\n",
    "        raise Exception ('Variable one must be 2 ')\n",
    "    print('The sum of 1 +2 is :', one+two)\n",
    "    \n",
    "try:\n",
    "    simple_function(1,2)\n",
    "except Exception as err:\n",
    "    print('An exception happend :' + str(err))"
   ]
  },
  {
   "cell_type": "code",
   "execution_count": 6,
   "metadata": {},
   "outputs": [
    {
     "name": "stdout",
     "output_type": "stream",
     "text": [
      "An exception happend : Variable one must be 1 \n"
     ]
    }
   ],
   "source": [
    "try:\n",
    "    simple_function(4, 5)\n",
    "except Exception as err:\n",
    "    print('An exception happend : ' + str(err))"
   ]
  },
  {
   "cell_type": "code",
   "execution_count": 9,
   "metadata": {},
   "outputs": [
    {
     "name": "stdout",
     "output_type": "stream",
     "text": [
      "Error is :  Both parameters are worng\n"
     ]
    }
   ],
   "source": [
    "# Modify to check parameters with try and except\n",
    "\n",
    "def simple_function(one, two):\n",
    "    \n",
    "    if one != 1 and two != 2:\n",
    "        raise Exception ('Both parameters are worng')\n",
    "    if one != 1:\n",
    "        raise Exception ('Variable one must be 1 ')\n",
    "    if two != 2:\n",
    "        raise Exception ('Variable one must be 2 ')\n",
    "    print('The sum of 1 +2 is :', one+two)\n",
    "\n",
    "try:    \n",
    "    simple_function(4, 4)\n",
    "except Exception as error1:\n",
    "    print('Error is : ',str(error1))"
   ]
  },
  {
   "cell_type": "code",
   "execution_count": 26,
   "metadata": {},
   "outputs": [
    {
     "name": "stdout",
     "output_type": "stream",
     "text": [
      "31.258452228282934\n"
     ]
    }
   ],
   "source": [
    "# Write a program that calculate the area of circle, properly test if the radius a number and between (1-100) \n",
    "# otherwise handle it with Exception and print out message\n",
    "# please use Math Library's pi vale\n",
    "\n",
    "from math import pi as pi\n",
    "from math import sqrt\n",
    "\n",
    "def calc_circle(radious):\n",
    "    if isinstance(radious, int) == False:\n",
    "        raise Exception ('Radious value is not integer, enter value in range of 1 to 100')\n",
    "    if 1 <= radious >= 100:\n",
    "        raise Exception ('Radious value exceeded than 100, can you enter Less Than equal to 100')\n",
    "    area = pi * sqrt(radious)\n",
    "    print(area)\n",
    "    \n",
    "try:\n",
    "    calc_circle(99)\n",
    "except Exception as cir_err:\n",
    "    print('Error is : ',str(cir_err))\n"
   ]
  },
  {
   "cell_type": "code",
   "execution_count": 19,
   "metadata": {},
   "outputs": [
    {
     "name": "stdout",
     "output_type": "stream",
     "text": [
      "True\n"
     ]
    }
   ],
   "source": [
    "x = isinstance(5, int)\n",
    "print(x)"
   ]
  }
 ],
 "metadata": {
  "kernelspec": {
   "display_name": "Python 3",
   "language": "python",
   "name": "python3"
  },
  "language_info": {
   "codemirror_mode": {
    "name": "ipython",
    "version": 3
   },
   "file_extension": ".py",
   "mimetype": "text/x-python",
   "name": "python",
   "nbconvert_exporter": "python",
   "pygments_lexer": "ipython3",
   "version": "3.7.0"
  }
 },
 "nbformat": 4,
 "nbformat_minor": 2
}
