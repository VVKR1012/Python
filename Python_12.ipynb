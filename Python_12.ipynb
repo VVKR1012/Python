{
 "cells": [
  {
   "cell_type": "code",
   "execution_count": 1,
   "metadata": {},
   "outputs": [],
   "source": [
    "# Skype with George on 08/19/2019"
   ]
  },
  {
   "cell_type": "code",
   "execution_count": 2,
   "metadata": {},
   "outputs": [
    {
     "name": "stdout",
     "output_type": "stream",
     "text": [
      "5 George\n",
      "5 George\n"
     ]
    },
    {
     "data": {
      "text/plain": [
       "<function BufferedReader.close>"
      ]
     },
     "execution_count": 2,
     "metadata": {},
     "output_type": "execute_result"
    }
   ],
   "source": [
    "import pickle \n",
    "\n",
    "a = 5\n",
    "b = 'George'\n",
    "# In python 3.x, we need to use \"wb\"\n",
    "# https://stackoverflow.com/questions/13906623/using-pickle-dump-typeerror-must-be-str-not-bytes\n",
    "file = open(\"state\", \"wb\")\n",
    "\n",
    "# This is how we store the variable's state\n",
    "# state is another word for the current value of the variable\n",
    "pickle.dump(a, file)\n",
    "pickle.dump(b, file)\n",
    "# Always remember to close it\n",
    "file.close()\n",
    "# If you want to open it\n",
    "\n",
    "# You have to do write bytes too\n",
    "# Because in python 3.x, the way to open/write is changed\n",
    "file = open(\"state\", \"rb\")\n",
    "number = pickle.load(file)\n",
    "string = pickle.load(file)\n",
    "\n",
    "# To print on the same line\n",
    "print(number, end=' ')\n",
    "print(string)\n",
    "\n",
    "# To print on the same line\n",
    "print(number, string)\n",
    "\n",
    "file.close"
   ]
  },
  {
   "cell_type": "code",
   "execution_count": 3,
   "metadata": {},
   "outputs": [
    {
     "name": "stdout",
     "output_type": "stream",
     "text": [
      "135135\n"
     ]
    }
   ],
   "source": [
    "# P.208 - Control Statement Part 2\n",
    "# Write a program that use a for loop to calculate\n",
    "# and print the product of the odd integers from 1 to 15\n",
    "j =1\n",
    "for i in range(1,15):\n",
    "    if i%2 != 0:\n",
    "        j = i * j\n",
    "        \n",
    "print(j)"
   ]
  },
  {
   "cell_type": "code",
   "execution_count": 4,
   "metadata": {},
   "outputs": [
    {
     "data": {
      "text/plain": [
       "1"
      ]
     },
     "execution_count": 4,
     "metadata": {},
     "output_type": "execute_result"
    }
   ],
   "source": [
    "def calc_odd_num(a, b):\n",
    "    \"\"\"Function to multiply given range odd numbers.\"\"\"\n",
    "    result = 1\n",
    "    \n",
    "    # If b is less than a, we would swap them\n",
    "    if b < a:\n",
    "        a, b = b, a\n",
    "    \n",
    "    # We confirmed the swap is ok!\n",
    "    # print(a, b)\n",
    "        \n",
    "    # We probably need to test if our starting \n",
    "    # value is odd or even?\n",
    "    \n",
    "    # Test if it is even, if so, move to next odd number\n",
    "    if (a % 2 == 0):\n",
    "        a = a + 1\n",
    "    \n",
    "    for j in range(a, b+1, 2):\n",
    "        if (j != 0):\n",
    "            result *= j\n",
    "    return result\n",
    "\n",
    "# Expectd number should be 15\n",
    "# -1  1  3 * 5 = 15\n",
    "calc_odd_num(1, 12)\n",
    "calc_odd_num(12, 12)"
   ]
  },
  {
   "cell_type": "code",
   "execution_count": 5,
   "metadata": {},
   "outputs": [
    {
     "data": {
      "text/plain": [
       "'Function to multiply given range odd numbers.'"
      ]
     },
     "execution_count": 5,
     "metadata": {},
     "output_type": "execute_result"
    }
   ],
   "source": [
    "calc_odd_num.__doc__"
   ]
  },
  {
   "cell_type": "code",
   "execution_count": null,
   "metadata": {},
   "outputs": [],
   "source": []
  }
 ],
 "metadata": {
  "kernelspec": {
   "display_name": "Python 3",
   "language": "python",
   "name": "python3"
  },
  "language_info": {
   "codemirror_mode": {
    "name": "ipython",
    "version": 3
   },
   "file_extension": ".py",
   "mimetype": "text/x-python",
   "name": "python",
   "nbconvert_exporter": "python",
   "pygments_lexer": "ipython3",
   "version": "3.7.3"
  }
 },
 "nbformat": 4,
 "nbformat_minor": 2
}
