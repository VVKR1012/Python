{
 "cells": [
  {
   "cell_type": "code",
   "execution_count": null,
   "metadata": {},
   "outputs": [],
   "source": [
    "# P.208\n",
    "\n",
    "# 5.13 One interesting application of computers is the drawing of graphs\n",
    "# and bar chats. Write a program that reads 5 numbers (between 1 and 30)\n",
    "# Assume the users enters only valid values. For each number that is \n",
    "# read. Your program should print a line containing that number of \n",
    "# adjacent asterisks.\n"
   ]
  },
  {
   "cell_type": "code",
   "execution_count": 1,
   "metadata": {},
   "outputs": [
    {
     "name": "stdout",
     "output_type": "stream",
     "text": [
      "Please enter a number (1-30): 5\n",
      "Please enter a number (1-30): 10\n",
      "Please enter a number (1-30): 20\n",
      "Please enter a number (1-30): 25\n",
      "Please enter a number (1-30): 30\n",
      "\n",
      "Report Graphic:\n",
      "\n",
      "5 : *****\n",
      "10 : **********\n",
      "20 : ********************\n",
      "25 : *************************\n",
      "30 : ******************************\n"
     ]
    }
   ],
   "source": [
    "get_input_list = [] # created a list to collect input values\n",
    "i = 1\n",
    "while(i<=5):\n",
    "    j = int(input('Please enter a number (1-30): '))\n",
    "    get_input_list.append(j)\n",
    "    i += 1\n",
    "    \n",
    "print('\\nReport Graphic:\\n')\n",
    "for k in range(0,5):\n",
    "    print(str(get_input_list[k]) + ' : ' + get_input_list[k] * \"*\")\n",
    "\n",
    "#print(get_input_list)"
   ]
  },
  {
   "cell_type": "code",
   "execution_count": 2,
   "metadata": {},
   "outputs": [
    {
     "name": "stdout",
     "output_type": "stream",
     "text": [
      "Please enter a number (1-30): 1\n",
      "Please enter a number (1-30): 10\n",
      "Please enter a number (1-30): 20\n",
      "Please enter a number (1-30): 25\n",
      "Please enter a number (1-30): 30\n",
      "\n",
      "Report Graphic: \n",
      "\n",
      " 1 : *\n",
      "10 : **********\n",
      "20 : ********************\n",
      "25 : *************************\n",
      "30 : ******************************\n"
     ]
    }
   ],
   "source": [
    "num_list = [] # created a list to collect input values\n",
    "count = 1\n",
    "message = 'Please enter a number (1-30): '\n",
    "\n",
    "while(count <= 5):\n",
    "    # Another way to solve it, it reads inside out\n",
    "    # Take the number from user, and append it to the list\n",
    "    num_list.append(int(input(message)))\n",
    "    count += 1\n",
    "    \n",
    "print('\\nReport Graphic: \\n')\n",
    "\n",
    "# Loop the list one number at a time\n",
    "for num in num_list:\n",
    "    # Convert the num to a string so the right justifciation method\n",
    "    # can be invoked.\n",
    "    print(str(num).rjust(2), ':', num * '*')"
   ]
  },
  {
   "cell_type": "code",
   "execution_count": null,
   "metadata": {},
   "outputs": [],
   "source": [
    "# P.208\n",
    "\n",
    "# 5.12 Write a function print_triangles that will take an \n",
    "# integer as argument, and display the following.\n",
    "\n",
    "# Example:\n",
    "# print_triangles(5)\n",
    "# Size:  5 \n",
    "\n",
    "# *\n",
    "# **\n",
    "# ***\n",
    "# ****\n",
    "# *****\n",
    "\n",
    "# *****\n",
    "# ****\n",
    "# ***\n",
    "# **\n",
    "# *\n",
    "\n",
    "#  *****\n",
    "#   ****\n",
    "#    ***\n",
    "#     **\n",
    "#      *\n",
    "\n",
    "#      *\n",
    "#     **\n",
    "#    ***\n",
    "#   ****\n",
    "#  *****\n",
    "\n"
   ]
  },
  {
   "cell_type": "code",
   "execution_count": 3,
   "metadata": {},
   "outputs": [
    {
     "name": "stdout",
     "output_type": "stream",
     "text": [
      "*\n",
      "**\n",
      "***\n",
      "****\n",
      "*****\n",
      "\n",
      "*****\n",
      "****\n",
      "***\n",
      "**\n",
      "*\n",
      "\n",
      "*****\n",
      " ****\n",
      "  ***\n",
      "   **\n",
      "    *\n",
      "\n",
      "    *\n",
      "   **\n",
      "  ***\n",
      " ****\n",
      "*****\n"
     ]
    }
   ],
   "source": [
    "def print_triangles(row):\n",
    "    if row <= 0:\n",
    "        print(\"Nothing to show\")\n",
    "    else:\n",
    "        for count1 in range(1,row+1):\n",
    "            print(count1 * \"*\")\n",
    "        \n",
    "        print()\n",
    "        for count2 in range(row,0,-1):\n",
    "            print(count2 * \"*\")\n",
    "        \n",
    "        print()\n",
    "        for count3 in range(row,0,-1):\n",
    "            print(str(count3 * \"*\").rjust(row))\n",
    "            #num_space = row - count3\n",
    "            #print(\" \" * num_space, \"*\" * count3)\n",
    "        \n",
    "        print()\n",
    "        for count1 in range(1,row+1):\n",
    "            print(str(count1 * \"*\").rjust(row))\n",
    "        \n",
    "print_triangles(5)"
   ]
  },
  {
   "cell_type": "code",
   "execution_count": 4,
   "metadata": {},
   "outputs": [
    {
     "name": "stdout",
     "output_type": "stream",
     "text": [
      "Nothing to show\n"
     ]
    }
   ],
   "source": [
    "print_triangles(0)"
   ]
  },
  {
   "cell_type": "code",
   "execution_count": 5,
   "metadata": {},
   "outputs": [
    {
     "name": "stdout",
     "output_type": "stream",
     "text": [
      "*\n",
      "\n",
      "*\n",
      "\n",
      "*\n",
      "\n",
      "*\n"
     ]
    }
   ],
   "source": [
    "print_triangles(1)"
   ]
  },
  {
   "cell_type": "code",
   "execution_count": 6,
   "metadata": {},
   "outputs": [
    {
     "data": {
      "text/plain": [
       "'C:\\\\Users\\\\VVIJAYAKUMARREDDY'"
      ]
     },
     "execution_count": 6,
     "metadata": {},
     "output_type": "execute_result"
    }
   ],
   "source": [
    "pwd"
   ]
  },
  {
   "cell_type": "code",
   "execution_count": null,
   "metadata": {},
   "outputs": [],
   "source": []
  }
 ],
 "metadata": {
  "kernelspec": {
   "display_name": "Python 3",
   "language": "python",
   "name": "python3"
  },
  "language_info": {
   "codemirror_mode": {
    "name": "ipython",
    "version": 3
   },
   "file_extension": ".py",
   "mimetype": "text/x-python",
   "name": "python",
   "nbconvert_exporter": "python",
   "pygments_lexer": "ipython3",
   "version": "3.7.0"
  }
 },
 "nbformat": 4,
 "nbformat_minor": 2
}
